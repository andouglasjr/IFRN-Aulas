{
  "nbformat": 4,
  "nbformat_minor": 0,
  "metadata": {
    "colab": {
      "name": "Aula 1 - Introducao e Conceitos Basicos.ipynb",
      "provenance": [],
      "collapsed_sections": [],
      "mount_file_id": "1jm-rqApWrRFIRyV4chdOMmUVDl0jxwPt",
      "authorship_tag": "ABX9TyNK2FF6vO+eND37BkKG7QB5",
      "include_colab_link": true
    },
    "kernelspec": {
      "name": "python3",
      "display_name": "Python 3"
    }
  },
  "cells": [
    {
      "cell_type": "markdown",
      "metadata": {
        "id": "view-in-github",
        "colab_type": "text"
      },
      "source": [
        "<a href=\"https://colab.research.google.com/github/andouglasjr/IFRN-Aulas/blob/main/Aula_1_Introducao_e_Conceitos_Basicos.ipynb\" target=\"_parent\"><img src=\"https://colab.research.google.com/assets/colab-badge.svg\" alt=\"Open In Colab\"/></a>"
      ]
    },
    {
      "cell_type": "markdown",
      "metadata": {
        "id": "EWFHnoCfFCct"
      },
      "source": [
        "<img src=\"https://drive.google.com/uc?id=1KEpp8k4UGfaKlyAXwqD-1FjDVAgpMtDF\" alt=\"drawing\" width=\"250\" align=\"right\"/> \r\n",
        "\r\n",
        "# Controladores Lógicos Programáveis - IFRN Campus Mossoró\r\n",
        "# Aula 1 - Introdução e Conceitos Básicos\r\n",
        "\r\n",
        "Na automação industrial um dos conceitos mais importantes é a ideia de sistemas de controle. Esses sistemas são compostos basicamente de 4 elementos:\r\n",
        "\r\n",
        "\r\n",
        "*   Processo\r\n",
        "*   Controlador\r\n",
        "*   Atuadores\r\n",
        "*   Sensores\r\n",
        "\r\n",
        "\r\n",
        "**Processo**\r\n",
        "\r\n",
        "O processo é a operação que evolui progressivaente e que se constitui por uma série de ações controladas objetivando um resultado particular. Para exemplificar podemos pegar como base uma planta industrial que é utilizada para a produção de etanol. Entre os vários processos necessários para essa produção, podemos destacar aquecimento controlado, mistura e separação de componentes, entre outros. Cada um desses processos deve ser controlado por uma malha de controle.\r\n",
        "\r\n",
        "**Controlador**\r\n",
        "\r\n",
        "O controlador é o componente que opera a partir da presença de distúrbios na entrada, como por exemplo o acionamento de um botão ou sensor, e tende a reduzir a diferença entre a saída de um sistema e a entrada. O CLP é um exemplo de controlador que pode ser usado para o controle de um processo industrial. Uma vez que dados são captados pelos elementos de entrada, o CLP pode atuar a partir de uma lógica de controle para acionar os elementos de saída.\r\n",
        "\r\n",
        "**Sensores**\r\n",
        "\r\n",
        "Os sensores são dispositivos que medem o desempenho do sistema de automação ou uma propriedade particular de algum de seus componentes. Esses dispositivos correspondem aos elementos de entrada de um controlador, como o CLP, e enviam informações do processo para que, baseado na lógica de controle, sejam executados os acionamentos necessários.\r\n",
        "\r\n",
        "**Atuadores**\r\n",
        "\r\n",
        "Os atuadores são dispostivos que atuam no processo baseado na lógica de controle enviada pelo controlador. Basicamente, depois de lido os valores de entrada, o controlador aciona equipamentos para atuar no processo de forma a mudar alguma variável controlada. Por exemplo, em um processo em que é necessário realizar o controle de temperatura da água em uma caldeira é necessário realizar o processo de aquecimento do flúido a partir de uma resistência (atuador acionado), enquanto que o processo de esfriamento acontece pela troca de calor com o meio (atuador desligado).\r\n",
        "\r\n",
        "\r\n",
        "\r\n",
        "\r\n",
        "\r\n",
        "\r\n",
        "\r\n"
      ]
    },
    {
      "cell_type": "markdown",
      "metadata": {
        "id": "2-NkrosdR3ss"
      },
      "source": [
        "---\r\n",
        "***Atenção: Para verificar suas respostas, execute a próxima linha.***\r\n",
        "\r\n",
        "---"
      ]
    },
    {
      "cell_type": "code",
      "metadata": {
        "id": "Lnza_MOxSF4w"
      },
      "source": [
        "#Setup do Notebook\r\n",
        "%%capture\r\n",
        "from google.colab import drive\r\n",
        "drive.mount('/content/drive')\r\n",
        "\r\n",
        "!pip install blockdiag\r\n",
        "!pip install pyensae\r\n",
        "\r\n",
        "from IPython.display import Image\r\n",
        "\r\n",
        "!mkdir /content/drive/MyDrive/diagramas\r\n",
        "%run resposta_1.py"
      ],
      "execution_count": 9,
      "outputs": []
    },
    {
      "cell_type": "markdown",
      "metadata": {
        "id": "fz6J9qwOJrxg"
      },
      "source": [
        "## Exercicio 1\r\n",
        "\r\n",
        "Podemos utilizar os 4 elementos listados anteriormente para criar um diagrama de blocos que exemplifica um processo de automação industrial de forma mais clara. Considerando (A) atuadores, (S) sensores, (P) Processo e (C) Controlador, indique a sequência em que eles se relacionam entre si, iniciando pelo (P) Processo.  \r\n",
        "\r\n",
        "**Exemplo**: (P) - (C) - (S) - (A) - (P) \r\n",
        "\r\n",
        "Neste caso, a ideia seria que os atuadores estão ligados ao sensores, que estão ligados ao processo, que estão ligados ao controlador e, fechando o ciclo, estão ligados ao atuadores."
      ]
    },
    {
      "cell_type": "code",
      "metadata": {
        "id": "TVA1GAxxPsuq"
      },
      "source": [
        "# Insira sua resposta e rode essa célula para verificar se está correta.\r\n",
        "resposta = '(P) - (C) - (S) - (A) - (P)'\r\n",
        "verificar1(resposta)"
      ],
      "execution_count": null,
      "outputs": []
    },
    {
      "cell_type": "code",
      "metadata": {
        "id": "yKGEaQ52E0b3"
      },
      "source": [
        "#execute esta célula para ver a solução\n",
        "solucao1()\n",
        "!blockdiag /content/drive/MyDrive/diagramas/diagrama_1\n",
        "Image(\"/content/drive/MyDrive/diagramas/diagrama_1.png\")"
      ],
      "execution_count": null,
      "outputs": []
    },
    {
      "cell_type": "markdown",
      "metadata": {
        "id": "QqVkmFPa-kbD"
      },
      "source": [
        "##Malhas de Controle\r\n",
        "\r\n",
        "Em sistemas de controle é comum encontrar dois tipos de malhas: aberta e fechada. Na malha aberta não existe o ramo de realimentação da saída para a entrada. Em outras palavras, a saída não realiza nenhuma influência sobre a entrada. Por outro lado, na malha fechada existe um bloco de comparação entre a resposta do sistema e a desejada, fazendo com que o controlador atue para minimizar o erro. \r\n",
        "\r\n",
        "Abaixo estão dois exemplos de malhas de controle, uma aberta e outra fechada.\r\n",
        "\r\n",
        "**Malha Aberta**\r\n",
        "\r\n",
        "![picture](https://drive.google.com/uc?id=1-8-cJYS2cmZyykPKQiv-k0MpmYSfWa9H)\r\n",
        "\r\n",
        "**Malha Fechada**\r\n",
        "\r\n",
        "![picture](https://drive.google.com/uc?id=1-EiSlvbDEutTyLtg0n9qC5wPtU-bMWMO)\r\n",
        "\r\n",
        "\r\n",
        "\r\n",
        "\r\n"
      ]
    },
    {
      "cell_type": "markdown",
      "metadata": {
        "id": "cAn2rs4c2aKP"
      },
      "source": [
        "##Elementos de Controle\r\n",
        "\r\n",
        "Os elementos que compõem os sistemas de controle são:\r\n",
        "\r\n",
        "\r\n",
        "\r\n",
        "1.   **Variável de Processo (PV)** - Consiste na variável que se deseja controlar. Ex.: Se em um processo é necessário controlar o aquecimento de uma caldeira, a variável de processo neste caso será a temperatura.\r\n",
        "2.   **Set Point (SP)** - Ponto de referência ou ajuste. Esse ponto é o que será utilizado como a resposta desejada. Ex.: Em um determinado procsso químico é necessário que a temperatura esteja em 150°. Essa é a  referência que o controlador tentará atuar para que o processo alcance a temperatura desejada.\r\n",
        "3. **Variável Manipulada (MV)** - Consite na variável que deverá ser modificada pelo controlador para alcançar o ponto de ajuste. Ex.: Para aquecer a caldeira é necessário o uso de uma resistência. O acionamento da resistência irá aquecer o fluido, enquanto o não acionamento fará o fluido resfriar por processo natural de transferência de calor. Neste caso, a variável manipulada é a tensão da resistência.\r\n",
        "\r\n",
        "\r\n"
      ]
    },
    {
      "cell_type": "markdown",
      "metadata": {
        "id": "OPqHl_xJ7cNE"
      },
      "source": [
        "## Exercício 2\r\n",
        "\r\n",
        "No controle de uma caixa d'água é necessário levar em consideração a altura mínima (2m) da coluna de água dentro do reservatório para acionamento da bomba. O controlador precisa encher a caixa até a coluna de água alcançar (10m). Neste exemplo, qual é a variável de processo, o set point e a variável manipulada?"
      ]
    },
    {
      "cell_type": "code",
      "metadata": {
        "colab": {
          "base_uri": "https://localhost:8080/"
        },
        "id": "R9B6BgSw2Ojv",
        "outputId": "6937f776-bf17-47ab-fa9f-317a9d5c173a"
      },
      "source": [
        "#execute esta célula para ver a solução\r\n",
        "solucao2()"
      ],
      "execution_count": 8,
      "outputs": [
        {
          "output_type": "stream",
          "text": [
            "VP: Nível\n",
            "SP: Altura da Coluna de Água\n",
            "VM: Tensão da Bomba\n"
          ],
          "name": "stdout"
        }
      ]
    },
    {
      "cell_type": "markdown",
      "metadata": {
        "id": "GQIoVJeUmFVm"
      },
      "source": [
        "## Controlador Lógico Programável (CLP)\r\n",
        "\r\n",
        "**História**\r\n",
        "\r\n",
        "As primeiras iniciativas do homem para mecanizar atividades manuais ocorreram na pre-história. Invenções como a roda, o moinho movido por vento ou força animal e as rodas d'água demonstram a criatividade do homem. Porém, a automação só ganhou destaque na sociedade quando o sistema de produção agrário e artesanal transformou-se em industrial, a partir das segunda metade do século XVIII, incialmente na Inglaterra.\r\n",
        "\r\n",
        "O conceito de controle manual implica na presença de um operador ao processo que opera um aparelho qualquer, como válvula, alavanca, chave, etc. No caso de um processo automatizado, a atuação de um operador diretamente no processo é substituída por um controlador que executa aquela tarefa de forma automática.\r\n",
        "\r\n",
        "Automatizar um sistema tornou-se muito mais viável à medida que a eletrônica avançou e passou a dispor de circuitos capazer de realizar funções lógicas e aritméticas com os sinais de entrada e gerar respectivos sinais de saída. Com este avanço, o controlador, sensores e atuadores passaram a funcionzar em conjunto, transformando o processo em um sistema automatizado, onde o próprio controlador aciona os atuadores em função da situação dos valores de entrada dos sensores.\r\n",
        "\r\n",
        "Inicialmente era utilizado dispositivos eletromecânicos do tipo a relés e contadores no processo industrial. Com o passar do anos, os circuitos lógicos tornaram-se mais rápidos, compactos e capazes de receber mais informações de entrada, atuando sobre um maior número de dispostivos.\r\n",
        "\r\n",
        "Um momento que revolucionou a automação industrial foi quando sugiu os microprocessadores. Esses dispositivos são responsáveis por receber informações da memória e das entradas, e, a partir dessas informações, desenvolver uma lógica de acionamento para as saída. É nesse contexto que surgem os Controladores Lógicos Programáceis (CLP), que utiliza a lógica dos diagramas elétricos a relés como base de sua programação.\r\n",
        "\r\n",
        "Esses dispositivos são próprios para ambientes industriais, onde os controladores realizam uma rotina cíclica de operação, característica básica do seus princípio de funcionamento, efetuando um controle discreto.\r\n",
        "\r\n",
        "### **Definição e Vantagens**\r\n",
        "\r\n",
        "Basicamente, um CLP é um equipamento eletrônico que usa uma memória programável para armazenar instruções e implementar funções como lógica, sequenciamento, temporização, contagem e aritiméticas para o controle de máquinas e processos (Bolton, 2010). Uma outra definição dada pela ABNT é \"equipamento eletrônico digital com hardware e software compatíveis com aplicações industriais\". As principais vantagens na uitlização de CLPs são:\r\n",
        "\r\n",
        "\r\n",
        "\r\n",
        "*   espaços reduzidos para instação elétrica dos equipamentos;\r\n",
        "*   menor consumo de energia elétrica;\r\n",
        "*   reutilizáveis para diferentes aplicações;\r\n",
        "*   facilmente programáveis;\r\n",
        "*   possuem maior confiabilidade e flexibilidade;\r\n",
        "*   permitem a elaboração de projetos de forma mais rápidas;\r\n",
        "*   possuem interface de comunicação com outros CLPs e computadores.\r\n",
        "\r\n",
        "### **Tipos de CLP**\r\n",
        "\r\n",
        "Podemos categorizar os tipos de CLPs em dois grandes grupos: módulos únicos e montados em rack. \r\n",
        "\r\n",
        "1) Os módulos únicos, geralmente, são mais compactos e possuem todas as partes em um único equipamento (fonte, processador, memória e unidades de entrada e saída). Podem ser encontrados, na maioria dos casos, com 6, 8, 12, e 24 entradas e 4,8 ou 16 saídas e são capazes de armazenar entre 300 a 1000 instruções de controle. Um exemplo é o modelo MELSEC FX3U da Mitsubishi.\r\n",
        "\r\n",
        "<center>\r\n",
        "<img src=\"http://acpd.co.uk/sei/s/1488/507.jpg\" alt=\"drawing\" width=\"250\"/> \r\n",
        "</center>\r\n",
        "\r\n",
        "2) Os CLPs que são montados em rack tem como principal características o de serem modulares. Em outras palavras, cada parte como fonte, processador, entradas e saídas, entre outros, são equipamentos separados montados em trilhos dentro de gabinetes metálicos, onde a conexão é feita por meio de soquetes. Um exemplo deste tipo de CLP é o SIMATIC S7-300/400.\r\n",
        "\r\n",
        "<center>\r\n",
        "<img src=\"https://habcom.vn/wp-content/uploads/2017/10/PLC_Siemens.jpg\" alt=\"drawing\" width=\"250\"/> \r\n",
        "</center>\r\n",
        "\r\n",
        "\r\n",
        "\r\n",
        "\r\n",
        "\r\n"
      ]
    },
    {
      "cell_type": "code",
      "metadata": {
        "id": "Br7hKKyT8kPy"
      },
      "source": [
        ""
      ],
      "execution_count": null,
      "outputs": []
    }
  ]
}